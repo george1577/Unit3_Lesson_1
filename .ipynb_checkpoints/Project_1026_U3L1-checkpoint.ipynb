{
 "cells": [
  {
   "cell_type": "code",
   "execution_count": 29,
   "metadata": {},
   "outputs": [],
   "source": [
    "import numpy as np\n",
    "from statistics import mode"
   ]
  },
  {
   "cell_type": "markdown",
   "metadata": {},
   "source": [
    "## Question 1\n",
    "Greg was 14, Marcia was 12, Peter was 11, Jan was 10, Bobby was 8, and Cindy was 6 when they started playing the Brady kids on The Brady Bunch. Cousin Oliver was 8 years old when he joined the show. What are the mean, median, and mode of the kids' ages when they first appeared on the show? What are the variance, standard deviation, and standard error?"
   ]
  },
  {
   "cell_type": "code",
   "execution_count": 30,
   "metadata": {},
   "outputs": [
    {
     "name": "stdout",
     "output_type": "stream",
     "text": [
      "Mean: 9.857142857142858\n",
      "Median: 10.0\n",
      "Mode: 8\n",
      "Variance: 6.408163265306122\n",
      "Standard deviation: 2.531435020952764\n",
      "Standard error: 0.9567925036515135\n"
     ]
    }
   ],
   "source": [
    "age = {'Greg': 14, 'Marcia': 12, 'Peter': 11, 'Jan': 10, 'Bobby': 8, 'Cindy': 6, 'Oliver': 8}\n",
    "print('Mean: {}'.format(np.mean(list(age.values()))))\n",
    "print('Median: {}'.format(np.median(list(age.values()))))\n",
    "print('Mode: {}'.format(mode(list(age.values()))))\n",
    "print('Variance: {}'.format(np.var(list(age.values()))))\n",
    "print('Standard deviation: {}'.format(np.std(list(age.values()))))\n",
    "print('Standard error: {}'.format(np.std(list(age.values()))/np.sqrt(len(age))))"
   ]
  },
  {
   "cell_type": "markdown",
   "metadata": {},
   "source": [
    "## Question 2\n",
    "Using these estimates, if you had to choose only one estimate of central tendency and one estimate of variance to describe the data, which would you pick and why?"
   ]
  },
  {
   "cell_type": "markdown",
   "metadata": {},
   "source": [
    "I would pick the median for estimate of central tendency, since the median is more robust, not like mean, which is easily skewed by the outliers.\n",
    "\n",
    "I would pick standard deviation for estimate of variance to describe data since the unit of standard deviation is the same as in the original population/sample, unlike variance, which is square(unit)"
   ]
  },
  {
   "cell_type": "markdown",
   "metadata": {},
   "source": [
    "## Question 3\n",
    "Next, Cindy has a birthday. Update your estimates- what changed, and what didn't?"
   ]
  },
  {
   "cell_type": "code",
   "execution_count": 31,
   "metadata": {},
   "outputs": [
    {
     "name": "stdout",
     "output_type": "stream",
     "text": [
      "Mean: 10.0\n",
      "Median: 10.0\n",
      "Mode: 8\n",
      "Variance: 5.428571428571429\n",
      "Standard deviation: 2.32992949004287\n",
      "Standard error: 0.8806305718527109\n"
     ]
    }
   ],
   "source": [
    "age_update = {'Greg': 14, 'Marcia': 12, 'Peter': 11, 'Jan': 10, 'Bobby': 8, 'Cindy': 7, 'Oliver': 8}\n",
    "print('Mean: {}'.format(np.mean(list(age_update.values()))))\n",
    "print('Median: {}'.format(np.median(list(age_update.values()))))\n",
    "print('Mode: {}'.format(mode(list(age_update.values()))))\n",
    "print('Variance: {}'.format(np.var(list(age_update.values()))))\n",
    "print('Standard deviation: {}'.format(np.std(list(age_update.values()))))\n",
    "print('Standard error: {}'.format(np.std(list(age_update.values()))/np.sqrt(len(age_update))))"
   ]
  },
  {
   "cell_type": "markdown",
   "metadata": {},
   "source": [
    "Median and mode stayed the same, the rest all changed"
   ]
  },
  {
   "cell_type": "markdown",
   "metadata": {},
   "source": [
    "## Question 4\n",
    "Nobody likes Cousin Oliver. Maybe the network should have used an even younger actor. Replace Cousin Oliver with 1-year-old Jessica, then recalculate again. Does this change your choice of central tendency or variance estimation methods?"
   ]
  },
  {
   "cell_type": "code",
   "execution_count": 32,
   "metadata": {},
   "outputs": [
    {
     "name": "stdout",
     "output_type": "stream",
     "text": [
      "Mean: 9.0\n",
      "Median: 10.0\n",
      "No mode found\n",
      "Variance: 15.428571428571429\n",
      "Standard deviation: 3.927922024247863\n",
      "Standard error: 1.4846149779161806\n"
     ]
    }
   ],
   "source": [
    "age_update_2 = {'Greg': 14, 'Marcia': 12, 'Peter': 11, 'Jan': 10, 'Bobby': 8, 'Cindy': 7, 'Jessica': 1}\n",
    "print('Mean: {}'.format(np.mean(list(age_update_2.values()))))\n",
    "print('Median: {}'.format(np.median(list(age_update_2.values()))))\n",
    "try: \n",
    "    print('Mode: {}'.format(mode(list(age_update_2.values()))))\n",
    "except:\n",
    "    print('No mode found')\n",
    "print('Variance: {}'.format(np.var(list(age_update_2.values()))))\n",
    "print('Standard deviation: {}'.format(np.std(list(age_update_2.values()))))\n",
    "print('Standard error: {}'.format(np.std(list(age_update_2.values()))/np.sqrt(len(age_update_2))))"
   ]
  },
  {
   "cell_type": "markdown",
   "metadata": {},
   "source": [
    "No, did not change my choice"
   ]
  },
  {
   "cell_type": "markdown",
   "metadata": {},
   "source": [
    "## Question 5\n",
    "On the 50th anniversary of The Brady Bunch, four different magazines asked their readers whether they were fans of the show. The answers were: TV Guide 20% fans Entertainment Weekly 23% fans Pop Culture Today 17% fans SciPhi Phanatic 5% fans\n",
    "\n",
    "Based on these numbers, what percentage of adult Americans would you estimate were Brady Bunch fans on the 50th anniversary of the show?"
   ]
  },
  {
   "cell_type": "markdown",
   "metadata": {},
   "source": [
    "SciPhi is more spcialized in scientific, which the reader is probably not general, will use the other three more general magazines to calculate fan percentage"
   ]
  },
  {
   "cell_type": "code",
   "execution_count": 33,
   "metadata": {},
   "outputs": [
    {
     "name": "stdout",
     "output_type": "stream",
     "text": [
      "20.0\n"
     ]
    }
   ],
   "source": [
    "print(np.mean([20, 23, 17]))"
   ]
  },
  {
   "cell_type": "code",
   "execution_count": null,
   "metadata": {},
   "outputs": [],
   "source": []
  }
 ],
 "metadata": {
  "kernelspec": {
   "display_name": "Python 3",
   "language": "python",
   "name": "python3"
  },
  "language_info": {
   "codemirror_mode": {
    "name": "ipython",
    "version": 3
   },
   "file_extension": ".py",
   "mimetype": "text/x-python",
   "name": "python",
   "nbconvert_exporter": "python",
   "pygments_lexer": "ipython3",
   "version": "3.7.0"
  }
 },
 "nbformat": 4,
 "nbformat_minor": 2
}
